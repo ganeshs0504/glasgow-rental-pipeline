{
 "cells": [
  {
   "cell_type": "code",
   "execution_count": 246,
   "id": "8cd5df07-9ee8-48a7-b2b8-831e1be7deea",
   "metadata": {},
   "outputs": [],
   "source": [
    "# !pip install -U Selenium"
   ]
  },
  {
   "cell_type": "code",
   "execution_count": 247,
   "id": "514e1cf8-d3ec-43bb-8eba-4acce3f71d98",
   "metadata": {},
   "outputs": [],
   "source": [
    "import requests\n",
    "from selenium import webdriver\n",
    "from selenium.webdriver.common.by import By\n",
    "import pandas as pd\n",
    "import time"
   ]
  },
  {
   "cell_type": "code",
   "execution_count": 248,
   "id": "35411a48-8524-4fac-82ef-148049dd2fb6",
   "metadata": {},
   "outputs": [],
   "source": [
    "url = 'https://www.rightmove.co.uk/property-to-rent/find.html?locationIdentifier=REGION%5E550&propertyTypes=&includeLetAgreed=false&mustHave=&dontShow=&furnishTypes=&keywords='"
   ]
  },
  {
   "cell_type": "code",
   "execution_count": 249,
   "id": "1d48779c-1610-4c9a-b0f8-a7d7336b0582",
   "metadata": {},
   "outputs": [],
   "source": [
    "driver = webdriver.Chrome()\n",
    "driver.maximize_window()\n",
    "driver.get(url)"
   ]
  },
  {
   "cell_type": "code",
   "execution_count": 250,
   "id": "db24e0eb-79d0-42c5-aea1-32357f7d08ff",
   "metadata": {},
   "outputs": [],
   "source": [
    "xpaths = {\n",
    "    'cookies_reject_btn': \"//button[@id='onetrust-reject-all-handler']\",\n",
    "    'rent_listing': \"//div[@class='l-searchResult is-list']\",\n",
    "    'address': \".//address\",\n",
    "    'price': \".//*[@class='propertyCard-priceValue']\",\n",
    "    'beds': \".//*[@class='property-information']/span[contains(@class, 'bed')]/following-sibling::span[1]\",\n",
    "    'bath': \".//*[@class='property-information']/span[contains(@class, 'bath')]/following-sibling::span[1]\",\n",
    "    'link': \".//div[@class='propertyCard-details']/a\",\n",
    "    'next_page': \"//button[@title='Next page']\"\n",
    "}"
   ]
  },
  {
   "cell_type": "code",
   "execution_count": 251,
   "id": "fb497f3d-ffa8-413b-a8fc-7029e6f23467",
   "metadata": {},
   "outputs": [],
   "source": [
    "driver.find_element(By.XPATH, xpaths['cookies_reject_btn']).click()"
   ]
  },
  {
   "cell_type": "code",
   "execution_count": 252,
   "id": "6d0b3464-dbb1-4ee2-b526-d2f53100f753",
   "metadata": {},
   "outputs": [],
   "source": [
    "def fetch_listings():\n",
    "    data = []\n",
    "    item_list = driver.find_elements(By.XPATH, xpaths['rent_listing'])\n",
    "    for ele in item_list:\n",
    "        link = ele.find_element(By.XPATH, xpaths['link']).get_attribute('href')\n",
    "        address = ele.find_element(By.XPATH, xpaths['address']).text\n",
    "        price = ele.find_element(By.XPATH, xpaths['price']).text\n",
    "        try:\n",
    "            beds = ele.find_element(By.XPATH, xpaths['beds']).text\n",
    "        except Exception:\n",
    "            beds = None\n",
    "        try:\n",
    "            bath = ele.find_element(By.XPATH, xpaths['bath']).text\n",
    "        except Exception:\n",
    "            bath = None\n",
    "    \n",
    "        data.append({\n",
    "            'link': link,\n",
    "            'address': address,\n",
    "            'price': price,\n",
    "            'beds': beds,\n",
    "            'bath': bath\n",
    "        })\n",
    "    return data"
   ]
  },
  {
   "cell_type": "code",
   "execution_count": 253,
   "id": "b4b00e59-3820-40ff-88b2-2cbec39212b5",
   "metadata": {},
   "outputs": [
    {
     "name": "stdout",
     "output_type": "stream",
     "text": [
      "iter: 0 25\n",
      "iter: 1 25\n",
      "iter: 2 25\n"
     ]
    }
   ],
   "source": [
    "final_structured_listings = []\n",
    "for i in range(3):\n",
    "    structured_listings = fetch_listings()\n",
    "    print(\"iter:\",i,len(structured_listings))\n",
    "    element = driver.find_element(By.XPATH, \"//a[@title='Contact us']\")\n",
    "    webdriver.ActionChains(driver).move_to_element(element).perform()\n",
    "    driver.find_element(By.XPATH, xpaths['next_page']).click()\n",
    "    final_structured_listings.extend(structured_listings)\n",
    "    time.sleep(2)"
   ]
  },
  {
   "cell_type": "code",
   "execution_count": 254,
   "id": "478be653-55b6-4ae7-a8be-367ab279a19a",
   "metadata": {},
   "outputs": [],
   "source": [
    "driver.close()"
   ]
  },
  {
   "cell_type": "code",
   "execution_count": 255,
   "id": "373ce9b7-9a5d-4d77-a7da-ab07c6dcf30a",
   "metadata": {},
   "outputs": [
    {
     "data": {
      "text/plain": [
       "75"
      ]
     },
     "execution_count": 255,
     "metadata": {},
     "output_type": "execute_result"
    }
   ],
   "source": [
    "len(final_structured_listings)"
   ]
  },
  {
   "cell_type": "code",
   "execution_count": 257,
   "id": "df720778-1708-4ffb-80d5-b6cdb115a8e6",
   "metadata": {},
   "outputs": [],
   "source": [
    "df = pd.DataFrame(final_structured_listings)"
   ]
  },
  {
   "cell_type": "code",
   "execution_count": 261,
   "id": "92cc53b4-1fc1-4531-ace3-ee9ea91d6a57",
   "metadata": {},
   "outputs": [
    {
     "data": {
      "text/plain": [
       "75"
      ]
     },
     "execution_count": 261,
     "metadata": {},
     "output_type": "execute_result"
    }
   ],
   "source": [
    "len(df['link'].unique())"
   ]
  },
  {
   "cell_type": "code",
   "execution_count": null,
   "id": "87fb2b32-2e1a-4270-ac54-0009e2d220ee",
   "metadata": {},
   "outputs": [],
   "source": []
  },
  {
   "cell_type": "code",
   "execution_count": null,
   "id": "19176e27-5f2a-466d-be07-c2478204f451",
   "metadata": {},
   "outputs": [],
   "source": []
  },
  {
   "cell_type": "code",
   "execution_count": null,
   "id": "3f2831ed-849d-49e1-9a02-fa588bfdafcb",
   "metadata": {},
   "outputs": [],
   "source": []
  },
  {
   "cell_type": "code",
   "execution_count": null,
   "id": "ad4db9f4-7407-4b22-95f7-4cd4d3327ba7",
   "metadata": {},
   "outputs": [],
   "source": []
  }
 ],
 "metadata": {
  "kernelspec": {
   "display_name": "Python 3 (ipykernel)",
   "language": "python",
   "name": "python3"
  },
  "language_info": {
   "codemirror_mode": {
    "name": "ipython",
    "version": 3
   },
   "file_extension": ".py",
   "mimetype": "text/x-python",
   "name": "python",
   "nbconvert_exporter": "python",
   "pygments_lexer": "ipython3",
   "version": "3.12.1"
  }
 },
 "nbformat": 4,
 "nbformat_minor": 5
}
