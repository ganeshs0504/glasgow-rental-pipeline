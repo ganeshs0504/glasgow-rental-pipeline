{
 "cells": [
  {
   "cell_type": "code",
   "execution_count": 108,
   "id": "8cd5df07-9ee8-48a7-b2b8-831e1be7deea",
   "metadata": {},
   "outputs": [],
   "source": [
    "# !pip install -U Selenium"
   ]
  },
  {
   "cell_type": "code",
   "execution_count": 109,
   "id": "514e1cf8-d3ec-43bb-8eba-4acce3f71d98",
   "metadata": {},
   "outputs": [],
   "source": [
    "import requests\n",
    "from selenium import webdriver\n",
    "from selenium.webdriver.common.by import By\n",
    "import pandas as pd\n",
    "import time\n",
    "from tqdm.auto import tqdm\n",
    "from selenium.webdriver.support.ui import WebDriverWait\n",
    "from selenium.webdriver.support import expected_conditions as EC"
   ]
  },
  {
   "cell_type": "code",
   "execution_count": 191,
   "id": "35411a48-8524-4fac-82ef-148049dd2fb6",
   "metadata": {},
   "outputs": [],
   "source": [
    "url = 'https://www.rightmove.co.uk/property-to-rent/find.html?locationIdentifier=REGION%5E550&propertyTypes=&includeLetAgreed=false&mustHave=&dontShow=&furnishTypes=&keywords='"
   ]
  },
  {
   "cell_type": "code",
   "execution_count": 121,
   "id": "1d48779c-1610-4c9a-b0f8-a7d7336b0582",
   "metadata": {},
   "outputs": [],
   "source": [
    "driver = webdriver.Chrome()\n",
    "driver.maximize_window()\n",
    "driver.get(url)"
   ]
  },
  {
   "cell_type": "code",
   "execution_count": 192,
   "id": "db24e0eb-79d0-42c5-aea1-32357f7d08ff",
   "metadata": {},
   "outputs": [],
   "source": [
    "xpaths = {\n",
    "    'cookies_reject_btn': \"//button[@id='onetrust-reject-all-handler']\",\n",
    "    'rent_listing': \"//div[@class='l-searchResult is-list']\",\n",
    "    'address': \".//address\",\n",
    "    'price': \".//*[@class='propertyCard-priceValue']\",\n",
    "    'beds': \".//*[@class='property-information']/span[contains(@class, 'bed')]/following-sibling::span[1]\",\n",
    "    'bath': \".//*[@class='property-information']/span[contains(@class, 'bath')]/following-sibling::span[1]\",\n",
    "    'link': \".//div[@class='propertyCard-details']/a\",\n",
    "    'next_page': \"//div[not(contains(@class, 'disabled'))]/button[@title='Next page']\",\n",
    "    'date_added': \"//div[contains(text(), 'Added') or contains(text(), 'Reduced')]\",\n",
    "    'let_available_date': \"//*[contains(text(), 'Let available date: ')]/..//dd\",\n",
    "    'deposit': \"//*[contains(text(), 'Deposit')]/../dd\",\n",
    "    'furnish_type': \"//*[contains(text(), 'Furnish type')]/..//dd\",\n",
    "    'property_type': \"//*[@data-testid='svg-house']/../../span\",\n",
    "    'station_list': \"//div[@id='Stations-panel']//li\"\n",
    "}"
   ]
  },
  {
   "cell_type": "code",
   "execution_count": 113,
   "id": "fb497f3d-ffa8-413b-a8fc-7029e6f23467",
   "metadata": {},
   "outputs": [],
   "source": [
    "driver.find_element(By.XPATH, xpaths['cookies_reject_btn']).click()"
   ]
  },
  {
   "cell_type": "code",
   "execution_count": 193,
   "id": "6d0b3464-dbb1-4ee2-b526-d2f53100f753",
   "metadata": {},
   "outputs": [],
   "source": [
    "def fetch_listings():\n",
    "    data = []\n",
    "    wait = WebDriverWait(driver, 5)\n",
    "    wait.until(EC.visibility_of_element_located((By.XPATH, xpaths['rent_listing'])))\n",
    "    item_list = driver.find_elements(By.XPATH, xpaths['rent_listing'])\n",
    "    for ele in item_list:\n",
    "        webdriver.ActionChains(driver).move_to_element(ele).perform()\n",
    "        link = ele.find_element(By.XPATH, xpaths['link']).get_attribute('href')\n",
    "        address = ele.find_element(By.XPATH, xpaths['address']).text\n",
    "        price = ele.find_element(By.XPATH, xpaths['price']).text\n",
    "        try:\n",
    "            beds = ele.find_element(By.XPATH, xpaths['beds']).text\n",
    "        except Exception:\n",
    "            beds = None\n",
    "        try:\n",
    "            bath = ele.find_element(By.XPATH, xpaths['bath']).text\n",
    "        except Exception:\n",
    "            bath = None\n",
    "    \n",
    "        data.append({\n",
    "            'link': link,\n",
    "            'address': address,\n",
    "            'price': price,\n",
    "            'beds': beds,\n",
    "            'bath': bath\n",
    "        })\n",
    "    return data\n",
    "\n",
    "def get_texts(xpath):\n",
    "    elements = driver.find_elements(By.XPATH, xpath)\n",
    "    values = []\n",
    "    for ele in elements:\n",
    "        values.append(ele.text)\n",
    "    return values\n",
    "\n",
    "def scrape_listing_info(link):\n",
    "    driver.get(link)\n",
    "    \n",
    "    date_added = driver.find_element(By.XPATH, xpaths['date_added']).text.split()[-1]\n",
    "    available_date = driver.find_element(By.XPATH, xpaths['let_available_date']).text\n",
    "    deposit = driver.find_element(By.XPATH, xpaths['deposit']).text\n",
    "    furnish_type = driver.find_element(By.XPATH, xpaths['furnish_type']).text\n",
    "    try:\n",
    "        property_type = driver.find_element(By.XPATH, xpaths['property_type']).text\n",
    "    except Exception:\n",
    "        property_type = None\n",
    "\n",
    "    station_list = get_texts(xpaths['station_list'])\n",
    "    station_1 = station_list[0].split(\"\\n\")[0] if len(station_list) > 0 else None\n",
    "    station_2 = station_list[1].split(\"\\n\")[0] if len(station_list) > 1 else None\n",
    "    station_3 = station_list[2].split(\"\\n\")[0] if len(station_list) > 2 else None\n",
    "    station_1_dist = station_list[0].split(\"\\n\")[-1] if len(station_list) > 0 else None\n",
    "    station_2_dist = station_list[1].split(\"\\n\")[-1] if len(station_list) > 1 else None\n",
    "    station_3_dist = station_list[2].split(\"\\n\")[-1] if len(station_list) > 2 else None\n",
    "\n",
    "    return ({\n",
    "        'date_added': date_added,\n",
    "        'available_date': available_date,\n",
    "        'deposit': deposit,\n",
    "        'furnish_type': furnish_type,\n",
    "        'property_type': property_type,\n",
    "        'station_1': station_1,\n",
    "        'station_1_dist': station_1_dist,\n",
    "        'station_2': station_2,\n",
    "        'station_2_dist': station_2_dist,\n",
    "        'station_3': station_3,\n",
    "        'station_3_dist': station_3_dist,\n",
    "    })"
   ]
  },
  {
   "cell_type": "code",
   "execution_count": 194,
   "id": "b4b00e59-3820-40ff-88b2-2cbec39212b5",
   "metadata": {},
   "outputs": [
    {
     "name": "stdout",
     "output_type": "stream",
     "text": [
      "iter: 1043 25\n",
      "iter: 1043 25\n",
      "iter: 1043 25\n",
      "iter: 1043 25\n",
      "iter: 1043 25\n",
      "iter: 1043 25\n",
      "iter: 1043 25\n",
      "iter: 1043 25\n",
      "iter: 1043 25\n",
      "iter: 1043 25\n",
      "iter: 1043 25\n",
      "iter: 1043 25\n",
      "iter: 1043 25\n",
      "iter: 1043 25\n",
      "iter: 1043 25\n",
      "iter: 1043 25\n",
      "iter: 1043 25\n",
      "iter: 1043 25\n",
      "iter: 1043 25\n",
      "iter: 1043 25\n",
      "iter: 1043 25\n",
      "iter: 1043 25\n",
      "iter: 1043 25\n",
      "iter: 1043 25\n",
      "iter: 1043 25\n",
      "iter: 1043 25\n",
      "iter: 1043 25\n",
      "iter: 1043 25\n",
      "iter: 1043 25\n",
      "iter: 1043 25\n",
      "iter: 1043 25\n",
      "iter: 1043 25\n",
      "iter: 1043 25\n",
      "iter: 1043 25\n",
      "iter: 1043 25\n",
      "iter: 1043 25\n",
      "iter: 1043 24\n",
      "iter: 1043 24\n",
      "iter: 1043 24\n",
      "iter: 1043 24\n",
      "iter: 1043 24\n",
      "iter: 1043 24\n",
      "Next button disabled: End of page\n",
      "Exiting Script\n"
     ]
    }
   ],
   "source": [
    "final_structured_listings = []\n",
    "iter_cnt = 0\n",
    "while True:\n",
    "    structured_listings = fetch_listings()\n",
    "    print(\"iter:\", iter_cnt, len(structured_listings))\n",
    "    element = driver.find_element(By.XPATH, \"//a[@title='Contact us']\")\n",
    "    webdriver.ActionChains(driver).move_to_element(element).perform()\n",
    "    final_structured_listings.extend(structured_listings)\n",
    "    iter_cnt += 1\n",
    "    try:\n",
    "        driver.find_element(By.XPATH, xpaths['next_page']).click()\n",
    "    except Exception:\n",
    "        print(\"Next button disabled: End of page\")\n",
    "        print(\"Exiting Script\")\n",
    "        break\n",
    "    # time.sleep(2)"
   ]
  },
  {
   "cell_type": "code",
   "execution_count": 118,
   "id": "df720778-1708-4ffb-80d5-b6cdb115a8e6",
   "metadata": {},
   "outputs": [],
   "source": [
    "df = pd.DataFrame(final_structured_listings)"
   ]
  },
  {
   "cell_type": "code",
   "execution_count": 181,
   "id": "0a33344d-44be-4c43-a198-45404b5ecd79",
   "metadata": {},
   "outputs": [
    {
     "data": {
      "application/vnd.jupyter.widget-view+json": {
       "model_id": "64b7387fcb3142cf91e29bbacf9776ff",
       "version_major": 2,
       "version_minor": 0
      },
      "text/plain": [
       "  0%|          | 0/1044 [00:00<?, ?it/s]"
      ]
     },
     "metadata": {},
     "output_type": "display_data"
    }
   ],
   "source": [
    "date_added = []\n",
    "available_date = []\n",
    "deposit = []\n",
    "furnish_type = []\n",
    "property_type = []\n",
    "station_1 = []\n",
    "station_1_dist = []\n",
    "station_2 = []\n",
    "station_2_dist = []\n",
    "station_3 = []\n",
    "station_3_dist = []\n",
    "\n",
    "for i, row in tqdm(df.iterrows(), total=len(df)):\n",
    "    scraped_data = scrape_listing_info(row['link'])\n",
    "    \n",
    "    date_added.append(scraped_data['date_added'])\n",
    "    available_date.append(scraped_data['available_date'])\n",
    "    deposit.append(scraped_data['deposit'])\n",
    "    furnish_type.append(scraped_data['furnish_type'])\n",
    "    property_type.append(scraped_data['property_type'])\n",
    "    station_1.append(scraped_data['station_1'])\n",
    "    station_1_dist.append(scraped_data['station_1_dist'])\n",
    "    station_2.append(scraped_data['station_2'])\n",
    "    station_2_dist.append(scraped_data['station_2_dist'])\n",
    "    station_3.append(scraped_data['station_3'])\n",
    "    station_3_dist.append(scraped_data['station_3_dist'])"
   ]
  },
  {
   "cell_type": "code",
   "execution_count": 182,
   "id": "61195ff7-22c2-4dd2-ad03-c795420c47ee",
   "metadata": {},
   "outputs": [],
   "source": [
    "assert len(date_added) == df.shape[0], f\"expected{df.shape[0]}; got{len(date_added)}\"\n",
    "assert len(available_date) == df.shape[0], f\"expected{df.shape[0]}; got{len(available_date)}\"\n",
    "assert len(deposit) == df.shape[0], f\"expected{df.shape[0]}; got{len(deposit)}\"\n",
    "assert len(furnish_type) == df.shape[0], f\"expected{df.shape[0]}; got{len(furnish_type)}\"\n",
    "assert len(property_type) == df.shape[0], f\"expected{df.shape[0]}; got{len(property_type)}\"\n",
    "assert len(station_1) == df.shape[0], f\"expected{df.shape[0]}; got{len(station_1)}\"\n",
    "assert len(station_1_dist) == df.shape[0], f\"expected{df.shape[0]}; got{len(station_1_dist)}\"\n",
    "assert len(station_2) == df.shape[0], f\"expected{df.shape[0]}; got{len(station_2)}\"\n",
    "assert len(station_2_dist) == df.shape[0], f\"expected{df.shape[0]}; got{len(station_2_dist)}\"\n",
    "assert len(station_3) == df.shape[0], f\"expected{df.shape[0]}; got{len(station_3)}\"\n",
    "assert len(station_3_dist) == df.shape[0], f\"expected{df.shape[0]}; got{len(station_3_dist)}\""
   ]
  },
  {
   "cell_type": "code",
   "execution_count": 183,
   "id": "4244b7c5-d933-4963-bef4-0974bf4dd8e6",
   "metadata": {},
   "outputs": [],
   "source": [
    "df['date_added'] = date_added\n",
    "df['available_date'] = available_date\n",
    "df['deposit'] = deposit\n",
    "df['furnish_type'] = furnish_type\n",
    "df['property_type'] = property_type\n",
    "df['station_1'] = station_1\n",
    "df['station_1_dist'] = station_1_dist\n",
    "df['station_2'] = station_2\n",
    "df['station_2_dist'] = station_2_dist\n",
    "df['station_3'] = station_3\n",
    "df['station_3_dist'] = station_3_dist"
   ]
  },
  {
   "cell_type": "code",
   "execution_count": 188,
   "id": "4ab331c5-0dbd-4dcd-9bb7-a246d06957fb",
   "metadata": {},
   "outputs": [],
   "source": [
    "df.to_csv('output.csv', index=False, encoding='utf-8')"
   ]
  },
  {
   "cell_type": "code",
   "execution_count": 196,
   "id": "5fd349c8-8587-4592-a132-f063414249c7",
   "metadata": {},
   "outputs": [],
   "source": [
    "driver.close()"
   ]
  }
 ],
 "metadata": {
  "kernelspec": {
   "display_name": "Python 3 (ipykernel)",
   "language": "python",
   "name": "python3"
  },
  "language_info": {
   "codemirror_mode": {
    "name": "ipython",
    "version": 3
   },
   "file_extension": ".py",
   "mimetype": "text/x-python",
   "name": "python",
   "nbconvert_exporter": "python",
   "pygments_lexer": "ipython3",
   "version": "3.12.1"
  }
 },
 "nbformat": 4,
 "nbformat_minor": 5
}
